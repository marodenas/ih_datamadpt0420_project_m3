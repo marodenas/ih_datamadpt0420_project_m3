{
 "cells": [
  {
   "cell_type": "code",
   "execution_count": 1,
   "metadata": {},
   "outputs": [],
   "source": [
    "import pandas as pd\n",
    "import numpy as np\n",
    "import matplotlib.pyplot as plt\n",
    "import seaborn as sns\n",
    "%matplotlib inline\n",
    "import math\n",
    "import lightgbm as lgb\n",
    "from sklearn.preprocessing import StandardScaler\n",
    "from sklearn.model_selection import GridSearchCV\n",
    "#error metrics\n",
    "from sklearn.metrics import mean_absolute_error\n",
    "from sklearn.metrics import mean_squared_error\n",
    "from sklearn.metrics import r2_score"
   ]
  },
  {
   "cell_type": "code",
   "execution_count": 2,
   "metadata": {},
   "outputs": [],
   "source": [
    "def error_metrics(y_true, y_pred):\n",
    "    \"give some error metrics base on a y_true and y _predict\"\n",
    "    mean_abs = \"Mean Absolute Error: {}\".format(mean_absolute_error(y_true, y_pred))\n",
    "    mean_squared = \"Mean Square Error: {}\".format(mean_squared_error(y_true, y_pred))\n",
    "    root_mean_squared = \"Root Mean Square Error: {}\".format(mean_squared_error(y_true, y_pred,squared=False))\n",
    "    r2 = \"r2 score: {}\".format(r2_score(y_true, y_pred))\n",
    "    return mean_abs, mean_squared, r2,root_mean_squared"
   ]
  },
  {
   "cell_type": "markdown",
   "metadata": {},
   "source": [
    "# Data Analysing"
   ]
  },
  {
   "cell_type": "code",
   "execution_count": 3,
   "metadata": {},
   "outputs": [],
   "source": [
    "diamonds = pd.read_csv('../data/diamonds_train.csv')\n",
    "diamonds_predict = pd.read_csv('../data/diamonds_predict.csv')"
   ]
  },
  {
   "cell_type": "code",
   "execution_count": 4,
   "metadata": {},
   "outputs": [],
   "source": [
    "#Drop Duplicates\n",
    "diamonds.drop_duplicates(inplace=True)"
   ]
  },
  {
   "cell_type": "markdown",
   "metadata": {},
   "source": [
    "# Add new data and Data Cleaning"
   ]
  },
  {
   "cell_type": "markdown",
   "metadata": {},
   "source": [
    "We observed some data with 0 as size dimension, so let's get rid of them"
   ]
  },
  {
   "cell_type": "code",
   "execution_count": 5,
   "metadata": {},
   "outputs": [],
   "source": [
    "diamonds_predict['x'] = diamonds_predict['x'].apply(lambda x: diamonds_predict['x'].median() if x==0 else x)\n",
    "diamonds_predict['y'] = diamonds_predict['y'].apply(lambda x: diamonds_predict['y'].median() if x==0 else x)\n",
    "diamonds_predict['z'] = diamonds_predict['z'].apply(lambda x: diamonds_predict['z'].median() if x==0 else x)"
   ]
  },
  {
   "cell_type": "markdown",
   "metadata": {},
   "source": [
    "For better prediction, we will delete those diamonds that are so big or size's outlayer"
   ]
  },
  {
   "cell_type": "code",
   "execution_count": 6,
   "metadata": {},
   "outputs": [],
   "source": [
    "diamonds = diamonds.loc[(diamonds['x']>0) | (diamonds['y']>0) | (diamonds['z']>0)]\n",
    "diamonds = diamonds.loc[~((diamonds['y'] > 20) | (diamonds['z'] > 20))]"
   ]
  },
  {
   "cell_type": "markdown",
   "metadata": {},
   "source": [
    "Let's calculate ratio, carat log and volume as sintetyc variables for our prediction"
   ]
  },
  {
   "cell_type": "code",
   "execution_count": 7,
   "metadata": {},
   "outputs": [],
   "source": [
    "diamonds['ratio_lw'] = diamonds['x']/diamonds['y']\n",
    "diamonds_predict['ratio_lw'] = diamonds_predict['x']/diamonds_predict['y']\n",
    "\n",
    "diamonds['carat_log'] = diamonds['carat'].apply(lambda x : math.log(x))\n",
    "diamonds_predict['carat_log'] = diamonds_predict['carat'].apply(lambda x : math.log(x))\n",
    "\n",
    "diamonds['volumen'] = (((diamonds['x']**2) * diamonds['z'] ) / 3)\n",
    "diamonds_predict['volumen'] = (((diamonds_predict['x']**2) * diamonds_predict['z'] ) / 3)"
   ]
  },
  {
   "cell_type": "code",
   "execution_count": 8,
   "metadata": {},
   "outputs": [],
   "source": [
    "def diamond_shape(df):\n",
    "    dshape = []\n",
    "    for i in df['table'].index:\n",
    "        if 54<df['table'][i]<57 and 61<df['depth'][i]<62.5:\n",
    "            dshape.append('round')\n",
    "        elif 52<df['table'][i]<60 and 60<df['depth'][i]<68:\n",
    "            dshape.append('oval')\n",
    "        elif 63<df['table'][i]<69 and 69<df['depth'][i]<76:\n",
    "            dshape.append('princess')\n",
    "        elif 58<df['table'][i]<63 and 58<df['depth'][i]<66:\n",
    "            dshape.append('cushion')\n",
    "        else:\n",
    "            dshape.append('others')\n",
    "    return dshape\n",
    "\n",
    "diamonds['shape'] = diamond_shape(diamonds)\n",
    "diamonds_predict['shape'] = diamond_shape(diamonds_predict)"
   ]
  },
  {
   "cell_type": "markdown",
   "metadata": {},
   "source": [
    "# Transform your data"
   ]
  },
  {
   "cell_type": "markdown",
   "metadata": {},
   "source": [
    "We will rate those categorical variables. The top characteristic is rate with the higher punctuation"
   ]
  },
  {
   "cell_type": "code",
   "execution_count": 9,
   "metadata": {},
   "outputs": [],
   "source": [
    "diamonds['cut']=diamonds['cut'].map({'Fair':0,'Good':1,'Very Good':2,'Premium':3, 'Ideal':4})\n",
    "diamonds['color']=diamonds['color'].map({'J':0, 'I':1, 'H':2, 'G':3, 'F': 4, 'E': 5, 'D':6})\n",
    "diamonds['clarity']=diamonds['clarity'].map({'I1':0,'SI2':1,'SI1':2,'VS2':3,'VS1':4,'VVS2':5,'VVS1':6,'IF':7})\n",
    "diamonds['shape']=diamonds['shape'].map({'round':4, 'oval': 1, 'princess': 3, 'cushion':2, 'others':0})"
   ]
  },
  {
   "cell_type": "code",
   "execution_count": 10,
   "metadata": {},
   "outputs": [],
   "source": [
    "diamonds_predict['cut']=diamonds_predict['cut'].map({'Fair':0,'Good':1,'Very Good':2,'Premium':3, 'Ideal':4})\n",
    "diamonds_predict['color']=diamonds_predict['color'].map({'J':0, 'I':1, 'H':2, 'G':3, 'F': 4, 'E': 5, 'D':6})\n",
    "diamonds_predict['clarity']=diamonds_predict['clarity'].map({'I1':0,'SI2':1,'SI1':2,'VS2':3,'VS1':4,'VVS2':5,'VVS1':6,'IF':7})\n",
    "diamonds_predict['shape']=diamonds_predict['shape'].map({'round':4, 'oval': 1, 'princess': 3, 'cushion':2, 'others':0})"
   ]
  },
  {
   "cell_type": "markdown",
   "metadata": {},
   "source": [
    "# Training your Supervised Model"
   ]
  },
  {
   "cell_type": "code",
   "execution_count": 11,
   "metadata": {},
   "outputs": [],
   "source": [
    "scaler = StandardScaler()"
   ]
  },
  {
   "cell_type": "code",
   "execution_count": 12,
   "metadata": {},
   "outputs": [],
   "source": [
    "NUM_FEATS = ['ratio_lw','carat_log','volumen']\n",
    "CAT_FEATS = ['cut','color', 'clarity','shape']\n",
    "FEATS = NUM_FEATS + CAT_FEATS\n",
    "TARGET = 'price'"
   ]
  },
  {
   "cell_type": "code",
   "execution_count": 13,
   "metadata": {},
   "outputs": [],
   "source": [
    "X_raw = diamonds[FEATS]\n",
    "y_raw = diamonds[TARGET]"
   ]
  },
  {
   "cell_type": "code",
   "execution_count": 14,
   "metadata": {},
   "outputs": [],
   "source": [
    "X = scaler.fit_transform(X_raw)\n",
    "y = y_raw"
   ]
  },
  {
   "cell_type": "code",
   "execution_count": 15,
   "metadata": {},
   "outputs": [],
   "source": [
    "from sklearn.model_selection import train_test_split\n",
    "x_train, x_test, y_train, y_test = train_test_split(X, y, test_size = 0.2, random_state = 42)"
   ]
  },
  {
   "cell_type": "code",
   "execution_count": 16,
   "metadata": {},
   "outputs": [],
   "source": [
    "model = lgb.LGBMRegressor()\n"
   ]
  },
  {
   "cell_type": "code",
   "execution_count": 17,
   "metadata": {},
   "outputs": [],
   "source": [
    "from sklearn.model_selection import cross_val_score\n",
    "scores = cross_val_score(model, X, y, scoring='neg_root_mean_squared_error',cv=10)"
   ]
  },
  {
   "cell_type": "code",
   "execution_count": 18,
   "metadata": {},
   "outputs": [
    {
     "data": {
      "text/plain": [
       "521.5589759288007"
      ]
     },
     "execution_count": 18,
     "metadata": {},
     "output_type": "execute_result"
    }
   ],
   "source": [
    "np.mean(-scores)"
   ]
  },
  {
   "cell_type": "code",
   "execution_count": 19,
   "metadata": {},
   "outputs": [],
   "source": [
    "param_grid = {\n",
    "    'n_estimators':[115, 116,117], \n",
    "    'max_depth:':['auto', 10],\n",
    "    'num_leaves': [40, 60,73],\n",
    "    'learning_rate': [0.005, 0.1,0.2],\n",
    "    'bagging_fraction': [0.70, 0.75],\n",
    "    'max_bin': [128, 256],\n",
    "    'feature_fraction' : [0.67,0.75,],\n",
    "    'bagging_frequency' : [0.70, 0.80, 0.85],\n",
    "    'min_data_in_leaf': [20, 25]\n",
    "}\n",
    "\n",
    "\n",
    "grid_search = GridSearchCV(model, \n",
    "                           param_grid=param_grid,\n",
    "                           cv=10, \n",
    "                           verbose=10, \n",
    "                           scoring='neg_root_mean_squared_error',\n",
    "                            n_jobs=-1)"
   ]
  },
  {
   "cell_type": "code",
   "execution_count": 20,
   "metadata": {},
   "outputs": [
    {
     "name": "stdout",
     "output_type": "stream",
     "text": [
      "Fitting 10 folds for each of 3456 candidates, totalling 34560 fits\n"
     ]
    },
    {
     "name": "stderr",
     "output_type": "stream",
     "text": [
      "[Parallel(n_jobs=-1)]: Using backend LokyBackend with 4 concurrent workers.\n",
      "[Parallel(n_jobs=-1)]: Done   5 tasks      | elapsed:    2.2s\n",
      "[Parallel(n_jobs=-1)]: Done  10 tasks      | elapsed:    2.8s\n",
      "[Parallel(n_jobs=-1)]: Done  17 tasks      | elapsed:    4.1s\n",
      "[Parallel(n_jobs=-1)]: Done  24 tasks      | elapsed:    4.9s\n",
      "[Parallel(n_jobs=-1)]: Done  33 tasks      | elapsed:    6.8s\n",
      "[Parallel(n_jobs=-1)]: Done  42 tasks      | elapsed:    8.2s\n",
      "[Parallel(n_jobs=-1)]: Done  53 tasks      | elapsed:    9.9s\n",
      "[Parallel(n_jobs=-1)]: Done  64 tasks      | elapsed:   11.5s\n",
      "[Parallel(n_jobs=-1)]: Done  77 tasks      | elapsed:   14.1s\n",
      "[Parallel(n_jobs=-1)]: Done  90 tasks      | elapsed:   16.2s\n",
      "[Parallel(n_jobs=-1)]: Done 105 tasks      | elapsed:   19.2s\n",
      "[Parallel(n_jobs=-1)]: Done 120 tasks      | elapsed:   22.6s\n",
      "[Parallel(n_jobs=-1)]: Done 137 tasks      | elapsed:   25.2s\n",
      "[Parallel(n_jobs=-1)]: Done 154 tasks      | elapsed:   28.9s\n",
      "[Parallel(n_jobs=-1)]: Done 173 tasks      | elapsed:   32.6s\n",
      "[Parallel(n_jobs=-1)]: Done 192 tasks      | elapsed:   36.4s\n",
      "[Parallel(n_jobs=-1)]: Done 213 tasks      | elapsed:   41.0s\n",
      "[Parallel(n_jobs=-1)]: Done 234 tasks      | elapsed:   47.0s\n",
      "[Parallel(n_jobs=-1)]: Done 257 tasks      | elapsed:   51.4s\n",
      "[Parallel(n_jobs=-1)]: Done 280 tasks      | elapsed:   56.2s\n",
      "[Parallel(n_jobs=-1)]: Done 305 tasks      | elapsed:  1.0min\n",
      "[Parallel(n_jobs=-1)]: Done 330 tasks      | elapsed:  1.1min\n",
      "[Parallel(n_jobs=-1)]: Done 357 tasks      | elapsed:  1.2min\n",
      "[Parallel(n_jobs=-1)]: Done 384 tasks      | elapsed:  1.3min\n",
      "[Parallel(n_jobs=-1)]: Done 413 tasks      | elapsed:  1.3min\n",
      "[Parallel(n_jobs=-1)]: Done 442 tasks      | elapsed:  1.4min\n",
      "[Parallel(n_jobs=-1)]: Done 473 tasks      | elapsed:  1.5min\n",
      "[Parallel(n_jobs=-1)]: Done 504 tasks      | elapsed:  1.6min\n",
      "[Parallel(n_jobs=-1)]: Done 537 tasks      | elapsed:  1.7min\n",
      "[Parallel(n_jobs=-1)]: Done 570 tasks      | elapsed:  1.8min\n",
      "[Parallel(n_jobs=-1)]: Done 605 tasks      | elapsed:  1.9min\n",
      "[Parallel(n_jobs=-1)]: Done 640 tasks      | elapsed:  2.0min\n",
      "[Parallel(n_jobs=-1)]: Done 677 tasks      | elapsed:  2.2min\n",
      "[Parallel(n_jobs=-1)]: Done 714 tasks      | elapsed:  2.3min\n",
      "[Parallel(n_jobs=-1)]: Done 753 tasks      | elapsed:  2.4min\n",
      "[Parallel(n_jobs=-1)]: Done 792 tasks      | elapsed:  2.5min\n",
      "[Parallel(n_jobs=-1)]: Done 833 tasks      | elapsed:  2.7min\n",
      "[Parallel(n_jobs=-1)]: Done 874 tasks      | elapsed:  2.8min\n",
      "[Parallel(n_jobs=-1)]: Done 917 tasks      | elapsed:  2.9min\n",
      "[Parallel(n_jobs=-1)]: Done 960 tasks      | elapsed:  3.1min\n",
      "[Parallel(n_jobs=-1)]: Done 1005 tasks      | elapsed:  3.2min\n",
      "[Parallel(n_jobs=-1)]: Done 1050 tasks      | elapsed:  3.3min\n",
      "[Parallel(n_jobs=-1)]: Done 1097 tasks      | elapsed:  3.4min\n",
      "[Parallel(n_jobs=-1)]: Done 1144 tasks      | elapsed:  3.6min\n",
      "[Parallel(n_jobs=-1)]: Done 1193 tasks      | elapsed:  3.7min\n",
      "[Parallel(n_jobs=-1)]: Done 1242 tasks      | elapsed:  3.8min\n",
      "[Parallel(n_jobs=-1)]: Done 1293 tasks      | elapsed:  4.0min\n",
      "[Parallel(n_jobs=-1)]: Done 1344 tasks      | elapsed:  4.1min\n",
      "[Parallel(n_jobs=-1)]: Done 1397 tasks      | elapsed:  4.3min\n",
      "[Parallel(n_jobs=-1)]: Done 1450 tasks      | elapsed:  4.4min\n",
      "[Parallel(n_jobs=-1)]: Done 1505 tasks      | elapsed:  4.6min\n",
      "[Parallel(n_jobs=-1)]: Done 1560 tasks      | elapsed:  4.7min\n",
      "[Parallel(n_jobs=-1)]: Done 1617 tasks      | elapsed:  4.9min\n",
      "[Parallel(n_jobs=-1)]: Done 1674 tasks      | elapsed:  5.1min\n",
      "[Parallel(n_jobs=-1)]: Done 1733 tasks      | elapsed:  5.3min\n",
      "[Parallel(n_jobs=-1)]: Done 1792 tasks      | elapsed:  5.5min\n",
      "[Parallel(n_jobs=-1)]: Done 1853 tasks      | elapsed:  5.7min\n",
      "[Parallel(n_jobs=-1)]: Done 1914 tasks      | elapsed:  5.9min\n",
      "[Parallel(n_jobs=-1)]: Done 1977 tasks      | elapsed:  6.0min\n",
      "[Parallel(n_jobs=-1)]: Done 2040 tasks      | elapsed:  6.2min\n",
      "[Parallel(n_jobs=-1)]: Done 2105 tasks      | elapsed:  6.3min\n",
      "[Parallel(n_jobs=-1)]: Done 2170 tasks      | elapsed:  6.5min\n",
      "[Parallel(n_jobs=-1)]: Done 2237 tasks      | elapsed:  6.7min\n",
      "[Parallel(n_jobs=-1)]: Done 2304 tasks      | elapsed:  6.8min\n",
      "[Parallel(n_jobs=-1)]: Done 2373 tasks      | elapsed:  7.0min\n",
      "[Parallel(n_jobs=-1)]: Done 2442 tasks      | elapsed:  7.2min\n",
      "[Parallel(n_jobs=-1)]: Done 2513 tasks      | elapsed:  7.4min\n",
      "[Parallel(n_jobs=-1)]: Done 2584 tasks      | elapsed:  7.6min\n",
      "[Parallel(n_jobs=-1)]: Done 2657 tasks      | elapsed:  7.8min\n",
      "[Parallel(n_jobs=-1)]: Done 2730 tasks      | elapsed:  8.0min\n",
      "[Parallel(n_jobs=-1)]: Done 2805 tasks      | elapsed:  8.2min\n",
      "[Parallel(n_jobs=-1)]: Done 2880 tasks      | elapsed:  8.4min\n",
      "[Parallel(n_jobs=-1)]: Done 2957 tasks      | elapsed:  8.6min\n",
      "[Parallel(n_jobs=-1)]: Done 3034 tasks      | elapsed:  8.8min\n",
      "[Parallel(n_jobs=-1)]: Done 3113 tasks      | elapsed:  9.1min\n",
      "[Parallel(n_jobs=-1)]: Done 3192 tasks      | elapsed:  9.3min\n",
      "[Parallel(n_jobs=-1)]: Done 3273 tasks      | elapsed:  9.5min\n",
      "[Parallel(n_jobs=-1)]: Done 3354 tasks      | elapsed:  9.8min\n",
      "[Parallel(n_jobs=-1)]: Done 3437 tasks      | elapsed: 10.0min\n",
      "[Parallel(n_jobs=-1)]: Done 3520 tasks      | elapsed: 10.3min\n",
      "[Parallel(n_jobs=-1)]: Done 3605 tasks      | elapsed: 10.6min\n",
      "[Parallel(n_jobs=-1)]: Done 3690 tasks      | elapsed: 10.9min\n",
      "[Parallel(n_jobs=-1)]: Done 3777 tasks      | elapsed: 11.2min\n",
      "[Parallel(n_jobs=-1)]: Done 3864 tasks      | elapsed: 11.5min\n",
      "[Parallel(n_jobs=-1)]: Done 3953 tasks      | elapsed: 11.7min\n",
      "[Parallel(n_jobs=-1)]: Done 4042 tasks      | elapsed: 12.0min\n",
      "[Parallel(n_jobs=-1)]: Done 4133 tasks      | elapsed: 12.3min\n",
      "[Parallel(n_jobs=-1)]: Done 4224 tasks      | elapsed: 12.5min\n",
      "[Parallel(n_jobs=-1)]: Done 4317 tasks      | elapsed: 12.8min\n",
      "[Parallel(n_jobs=-1)]: Done 4410 tasks      | elapsed: 13.1min\n",
      "[Parallel(n_jobs=-1)]: Done 4505 tasks      | elapsed: 13.4min\n",
      "[Parallel(n_jobs=-1)]: Done 4600 tasks      | elapsed: 13.7min\n",
      "[Parallel(n_jobs=-1)]: Done 4697 tasks      | elapsed: 14.0min\n",
      "[Parallel(n_jobs=-1)]: Done 4794 tasks      | elapsed: 14.4min\n",
      "[Parallel(n_jobs=-1)]: Done 4893 tasks      | elapsed: 14.6min\n",
      "[Parallel(n_jobs=-1)]: Done 4992 tasks      | elapsed: 14.9min\n",
      "[Parallel(n_jobs=-1)]: Done 5093 tasks      | elapsed: 15.1min\n",
      "[Parallel(n_jobs=-1)]: Done 5194 tasks      | elapsed: 15.4min\n",
      "[Parallel(n_jobs=-1)]: Done 5297 tasks      | elapsed: 15.7min\n",
      "[Parallel(n_jobs=-1)]: Done 5400 tasks      | elapsed: 15.9min\n",
      "[Parallel(n_jobs=-1)]: Done 5505 tasks      | elapsed: 16.2min\n",
      "[Parallel(n_jobs=-1)]: Done 5610 tasks      | elapsed: 16.5min\n",
      "[Parallel(n_jobs=-1)]: Done 5717 tasks      | elapsed: 16.8min\n",
      "[Parallel(n_jobs=-1)]: Done 5824 tasks      | elapsed: 17.1min\n",
      "[Parallel(n_jobs=-1)]: Done 5933 tasks      | elapsed: 17.5min\n",
      "[Parallel(n_jobs=-1)]: Done 6042 tasks      | elapsed: 17.8min\n",
      "[Parallel(n_jobs=-1)]: Done 6153 tasks      | elapsed: 18.2min\n",
      "[Parallel(n_jobs=-1)]: Done 6264 tasks      | elapsed: 18.5min\n",
      "[Parallel(n_jobs=-1)]: Done 6377 tasks      | elapsed: 18.9min\n",
      "[Parallel(n_jobs=-1)]: Done 6490 tasks      | elapsed: 19.3min\n",
      "[Parallel(n_jobs=-1)]: Done 6605 tasks      | elapsed: 19.7min\n",
      "[Parallel(n_jobs=-1)]: Done 6720 tasks      | elapsed: 20.1min\n",
      "[Parallel(n_jobs=-1)]: Done 6837 tasks      | elapsed: 20.4min\n",
      "[Parallel(n_jobs=-1)]: Done 6954 tasks      | elapsed: 20.8min\n",
      "[Parallel(n_jobs=-1)]: Done 7073 tasks      | elapsed: 21.1min\n",
      "[Parallel(n_jobs=-1)]: Done 7192 tasks      | elapsed: 21.5min\n",
      "[Parallel(n_jobs=-1)]: Done 7313 tasks      | elapsed: 21.8min\n",
      "[Parallel(n_jobs=-1)]: Done 7434 tasks      | elapsed: 22.2min\n",
      "[Parallel(n_jobs=-1)]: Done 7557 tasks      | elapsed: 22.6min\n",
      "[Parallel(n_jobs=-1)]: Done 7680 tasks      | elapsed: 23.0min\n",
      "[Parallel(n_jobs=-1)]: Done 7805 tasks      | elapsed: 23.3min\n",
      "[Parallel(n_jobs=-1)]: Done 7930 tasks      | elapsed: 23.6min\n",
      "[Parallel(n_jobs=-1)]: Done 8057 tasks      | elapsed: 24.0min\n",
      "[Parallel(n_jobs=-1)]: Done 8184 tasks      | elapsed: 24.3min\n",
      "[Parallel(n_jobs=-1)]: Done 8313 tasks      | elapsed: 24.7min\n",
      "[Parallel(n_jobs=-1)]: Done 8442 tasks      | elapsed: 25.1min\n",
      "[Parallel(n_jobs=-1)]: Done 8573 tasks      | elapsed: 25.4min\n",
      "[Parallel(n_jobs=-1)]: Done 8704 tasks      | elapsed: 25.8min\n",
      "[Parallel(n_jobs=-1)]: Done 8837 tasks      | elapsed: 26.2min\n",
      "[Parallel(n_jobs=-1)]: Done 8970 tasks      | elapsed: 26.6min\n",
      "[Parallel(n_jobs=-1)]: Done 9105 tasks      | elapsed: 27.0min\n",
      "[Parallel(n_jobs=-1)]: Done 9240 tasks      | elapsed: 27.4min\n",
      "[Parallel(n_jobs=-1)]: Done 9377 tasks      | elapsed: 27.8min\n",
      "[Parallel(n_jobs=-1)]: Done 9514 tasks      | elapsed: 28.2min\n",
      "[Parallel(n_jobs=-1)]: Done 9653 tasks      | elapsed: 28.7min\n",
      "[Parallel(n_jobs=-1)]: Done 9792 tasks      | elapsed: 29.0min\n",
      "[Parallel(n_jobs=-1)]: Done 9933 tasks      | elapsed: 29.4min\n",
      "[Parallel(n_jobs=-1)]: Done 10074 tasks      | elapsed: 29.8min\n",
      "[Parallel(n_jobs=-1)]: Done 10217 tasks      | elapsed: 30.2min\n",
      "[Parallel(n_jobs=-1)]: Done 10360 tasks      | elapsed: 30.7min\n",
      "[Parallel(n_jobs=-1)]: Done 10505 tasks      | elapsed: 31.1min\n",
      "[Parallel(n_jobs=-1)]: Done 10650 tasks      | elapsed: 31.5min\n",
      "[Parallel(n_jobs=-1)]: Done 10797 tasks      | elapsed: 31.8min\n",
      "[Parallel(n_jobs=-1)]: Done 10944 tasks      | elapsed: 32.2min\n",
      "[Parallel(n_jobs=-1)]: Done 11093 tasks      | elapsed: 32.5min\n",
      "[Parallel(n_jobs=-1)]: Done 11242 tasks      | elapsed: 32.9min\n",
      "[Parallel(n_jobs=-1)]: Done 11393 tasks      | elapsed: 33.3min\n",
      "[Parallel(n_jobs=-1)]: Done 11544 tasks      | elapsed: 33.8min\n",
      "[Parallel(n_jobs=-1)]: Done 11697 tasks      | elapsed: 34.2min\n",
      "[Parallel(n_jobs=-1)]: Done 11850 tasks      | elapsed: 34.6min\n",
      "[Parallel(n_jobs=-1)]: Done 12005 tasks      | elapsed: 35.1min\n",
      "[Parallel(n_jobs=-1)]: Done 12160 tasks      | elapsed: 35.6min\n",
      "[Parallel(n_jobs=-1)]: Done 12317 tasks      | elapsed: 36.1min\n",
      "[Parallel(n_jobs=-1)]: Done 12474 tasks      | elapsed: 36.6min\n",
      "[Parallel(n_jobs=-1)]: Done 12633 tasks      | elapsed: 37.0min\n",
      "[Parallel(n_jobs=-1)]: Done 12792 tasks      | elapsed: 37.4min\n",
      "[Parallel(n_jobs=-1)]: Done 12953 tasks      | elapsed: 37.9min\n",
      "[Parallel(n_jobs=-1)]: Done 13114 tasks      | elapsed: 38.3min\n",
      "[Parallel(n_jobs=-1)]: Done 13277 tasks      | elapsed: 38.8min\n",
      "[Parallel(n_jobs=-1)]: Done 13440 tasks      | elapsed: 39.3min\n",
      "[Parallel(n_jobs=-1)]: Done 13605 tasks      | elapsed: 39.7min\n",
      "[Parallel(n_jobs=-1)]: Done 13770 tasks      | elapsed: 40.1min\n",
      "[Parallel(n_jobs=-1)]: Done 13937 tasks      | elapsed: 40.5min\n",
      "[Parallel(n_jobs=-1)]: Done 14104 tasks      | elapsed: 41.0min\n",
      "[Parallel(n_jobs=-1)]: Done 14273 tasks      | elapsed: 41.4min\n",
      "[Parallel(n_jobs=-1)]: Done 14442 tasks      | elapsed: 41.9min\n",
      "[Parallel(n_jobs=-1)]: Done 14613 tasks      | elapsed: 42.4min\n",
      "[Parallel(n_jobs=-1)]: Done 14784 tasks      | elapsed: 42.9min\n",
      "[Parallel(n_jobs=-1)]: Done 14957 tasks      | elapsed: 43.5min\n",
      "[Parallel(n_jobs=-1)]: Done 15130 tasks      | elapsed: 44.1min\n",
      "[Parallel(n_jobs=-1)]: Done 15305 tasks      | elapsed: 44.7min\n",
      "[Parallel(n_jobs=-1)]: Done 15480 tasks      | elapsed: 45.2min\n",
      "[Parallel(n_jobs=-1)]: Done 15657 tasks      | elapsed: 45.7min\n",
      "[Parallel(n_jobs=-1)]: Done 15834 tasks      | elapsed: 46.2min\n",
      "[Parallel(n_jobs=-1)]: Done 16013 tasks      | elapsed: 46.8min\n",
      "[Parallel(n_jobs=-1)]: Done 16192 tasks      | elapsed: 47.4min\n",
      "[Parallel(n_jobs=-1)]: Done 16373 tasks      | elapsed: 47.9min\n",
      "[Parallel(n_jobs=-1)]: Done 16554 tasks      | elapsed: 48.4min\n",
      "[Parallel(n_jobs=-1)]: Done 16737 tasks      | elapsed: 48.8min\n",
      "[Parallel(n_jobs=-1)]: Done 16920 tasks      | elapsed: 49.3min\n",
      "[Parallel(n_jobs=-1)]: Done 17105 tasks      | elapsed: 49.9min\n",
      "[Parallel(n_jobs=-1)]: Done 17290 tasks      | elapsed: 50.4min\n",
      "[Parallel(n_jobs=-1)]: Done 17477 tasks      | elapsed: 50.9min\n",
      "[Parallel(n_jobs=-1)]: Done 17664 tasks      | elapsed: 51.5min\n",
      "[Parallel(n_jobs=-1)]: Done 17853 tasks      | elapsed: 52.0min\n",
      "[Parallel(n_jobs=-1)]: Done 18042 tasks      | elapsed: 52.6min\n",
      "[Parallel(n_jobs=-1)]: Done 18233 tasks      | elapsed: 53.2min\n",
      "[Parallel(n_jobs=-1)]: Done 18424 tasks      | elapsed: 53.8min\n",
      "[Parallel(n_jobs=-1)]: Done 18617 tasks      | elapsed: 54.3min\n",
      "[Parallel(n_jobs=-1)]: Done 18810 tasks      | elapsed: 54.8min\n",
      "[Parallel(n_jobs=-1)]: Done 19005 tasks      | elapsed: 55.4min\n",
      "[Parallel(n_jobs=-1)]: Done 19200 tasks      | elapsed: 56.0min\n",
      "[Parallel(n_jobs=-1)]: Done 19397 tasks      | elapsed: 56.5min\n",
      "[Parallel(n_jobs=-1)]: Done 19594 tasks      | elapsed: 56.9min\n",
      "[Parallel(n_jobs=-1)]: Done 19793 tasks      | elapsed: 57.4min\n",
      "[Parallel(n_jobs=-1)]: Done 19992 tasks      | elapsed: 58.0min\n",
      "[Parallel(n_jobs=-1)]: Done 20193 tasks      | elapsed: 58.6min\n",
      "[Parallel(n_jobs=-1)]: Done 20394 tasks      | elapsed: 59.1min\n",
      "[Parallel(n_jobs=-1)]: Done 20597 tasks      | elapsed: 59.7min\n",
      "[Parallel(n_jobs=-1)]: Done 20800 tasks      | elapsed: 60.3min\n",
      "[Parallel(n_jobs=-1)]: Done 21005 tasks      | elapsed: 61.0min\n",
      "[Parallel(n_jobs=-1)]: Done 21210 tasks      | elapsed: 61.6min\n",
      "[Parallel(n_jobs=-1)]: Done 21417 tasks      | elapsed: 62.1min\n",
      "[Parallel(n_jobs=-1)]: Done 21624 tasks      | elapsed: 62.7min\n",
      "[Parallel(n_jobs=-1)]: Done 21833 tasks      | elapsed: 63.3min\n",
      "[Parallel(n_jobs=-1)]: Done 22042 tasks      | elapsed: 64.0min\n",
      "[Parallel(n_jobs=-1)]: Done 22253 tasks      | elapsed: 64.5min\n",
      "[Parallel(n_jobs=-1)]: Done 22464 tasks      | elapsed: 65.0min\n",
      "[Parallel(n_jobs=-1)]: Done 22677 tasks      | elapsed: 65.5min\n",
      "[Parallel(n_jobs=-1)]: Done 22890 tasks      | elapsed: 66.1min\n",
      "[Parallel(n_jobs=-1)]: Done 23105 tasks      | elapsed: 66.7min\n",
      "[Parallel(n_jobs=-1)]: Done 23320 tasks      | elapsed: 67.4min\n",
      "[Parallel(n_jobs=-1)]: Done 23537 tasks      | elapsed: 68.0min\n",
      "[Parallel(n_jobs=-1)]: Done 23754 tasks      | elapsed: 68.8min\n",
      "[Parallel(n_jobs=-1)]: Done 23973 tasks      | elapsed: 69.5min\n",
      "[Parallel(n_jobs=-1)]: Done 24192 tasks      | elapsed: 70.2min\n",
      "[Parallel(n_jobs=-1)]: Done 24413 tasks      | elapsed: 70.8min\n",
      "[Parallel(n_jobs=-1)]: Done 24634 tasks      | elapsed: 71.5min\n",
      "[Parallel(n_jobs=-1)]: Done 24857 tasks      | elapsed: 72.2min\n",
      "[Parallel(n_jobs=-1)]: Done 25080 tasks      | elapsed: 72.8min\n",
      "[Parallel(n_jobs=-1)]: Done 25305 tasks      | elapsed: 73.4min\n",
      "[Parallel(n_jobs=-1)]: Done 25530 tasks      | elapsed: 74.0min\n",
      "[Parallel(n_jobs=-1)]: Done 25757 tasks      | elapsed: 74.7min\n",
      "[Parallel(n_jobs=-1)]: Done 25984 tasks      | elapsed: 75.3min\n",
      "[Parallel(n_jobs=-1)]: Done 26213 tasks      | elapsed: 76.0min\n",
      "[Parallel(n_jobs=-1)]: Done 26442 tasks      | elapsed: 76.6min\n",
      "[Parallel(n_jobs=-1)]: Done 26673 tasks      | elapsed: 77.4min\n",
      "[Parallel(n_jobs=-1)]: Done 26904 tasks      | elapsed: 78.1min\n",
      "[Parallel(n_jobs=-1)]: Done 27137 tasks      | elapsed: 78.7min\n",
      "[Parallel(n_jobs=-1)]: Done 27370 tasks      | elapsed: 79.3min\n",
      "[Parallel(n_jobs=-1)]: Done 27605 tasks      | elapsed: 80.0min\n",
      "[Parallel(n_jobs=-1)]: Done 27840 tasks      | elapsed: 80.7min\n",
      "[Parallel(n_jobs=-1)]: Done 28077 tasks      | elapsed: 81.3min\n",
      "[Parallel(n_jobs=-1)]: Done 28314 tasks      | elapsed: 81.9min\n",
      "[Parallel(n_jobs=-1)]: Done 28553 tasks      | elapsed: 82.5min\n",
      "[Parallel(n_jobs=-1)]: Done 28792 tasks      | elapsed: 83.2min\n",
      "[Parallel(n_jobs=-1)]: Done 29033 tasks      | elapsed: 83.9min\n",
      "[Parallel(n_jobs=-1)]: Done 29274 tasks      | elapsed: 84.5min\n",
      "[Parallel(n_jobs=-1)]: Done 29517 tasks      | elapsed: 85.3min\n",
      "[Parallel(n_jobs=-1)]: Done 29760 tasks      | elapsed: 86.1min\n",
      "[Parallel(n_jobs=-1)]: Done 30005 tasks      | elapsed: 86.7min\n",
      "[Parallel(n_jobs=-1)]: Done 30250 tasks      | elapsed: 87.4min\n",
      "[Parallel(n_jobs=-1)]: Done 30497 tasks      | elapsed: 88.1min\n",
      "[Parallel(n_jobs=-1)]: Done 30744 tasks      | elapsed: 88.9min\n",
      "[Parallel(n_jobs=-1)]: Done 30993 tasks      | elapsed: 89.5min\n",
      "[Parallel(n_jobs=-1)]: Done 31242 tasks      | elapsed: 90.1min\n",
      "[Parallel(n_jobs=-1)]: Done 31493 tasks      | elapsed: 90.7min\n",
      "[Parallel(n_jobs=-1)]: Done 31744 tasks      | elapsed: 91.4min\n",
      "[Parallel(n_jobs=-1)]: Done 31997 tasks      | elapsed: 92.2min\n",
      "[Parallel(n_jobs=-1)]: Done 32250 tasks      | elapsed: 93.0min\n",
      "[Parallel(n_jobs=-1)]: Done 32505 tasks      | elapsed: 93.9min\n",
      "[Parallel(n_jobs=-1)]: Done 32760 tasks      | elapsed: 94.7min\n",
      "[Parallel(n_jobs=-1)]: Done 33017 tasks      | elapsed: 95.4min\n",
      "[Parallel(n_jobs=-1)]: Done 33274 tasks      | elapsed: 96.2min\n",
      "[Parallel(n_jobs=-1)]: Done 33533 tasks      | elapsed: 97.0min\n",
      "[Parallel(n_jobs=-1)]: Done 33792 tasks      | elapsed: 97.7min\n",
      "[Parallel(n_jobs=-1)]: Done 34053 tasks      | elapsed: 98.4min\n",
      "[Parallel(n_jobs=-1)]: Done 34314 tasks      | elapsed: 99.1min\n",
      "[Parallel(n_jobs=-1)]: Done 34560 out of 34560 | elapsed: 99.9min finished\n"
     ]
    },
    {
     "data": {
      "text/plain": [
       "GridSearchCV(cv=10, estimator=LGBMRegressor(), n_jobs=-1,\n",
       "             param_grid={'bagging_fraction': [0.7, 0.75],\n",
       "                         'bagging_frequency': [0.7, 0.8],\n",
       "                         'feature_fraction': [0.67, 0.75, 0.8],\n",
       "                         'learning_rate': [0.005, 0.1, 0.2],\n",
       "                         'max_bin': [128, 256], 'max_depth:': ['auto', 1],\n",
       "                         'min_data_in_leaf': [20, 25],\n",
       "                         'n_estimators': [114, 115, 116],\n",
       "                         'num_leaves': [31, 40, 60, 73]},\n",
       "             scoring='neg_root_mean_squared_error', verbose=10)"
      ]
     },
     "execution_count": 20,
     "metadata": {},
     "output_type": "execute_result"
    }
   ],
   "source": [
    "grid_search.fit(X, y)"
   ]
  },
  {
   "cell_type": "code",
   "execution_count": 21,
   "metadata": {},
   "outputs": [
    {
     "data": {
      "text/plain": [
       "LGBMRegressor(bagging_fraction=0.7, bagging_frequency=0.7, feature_fraction=0.8,\n",
       "              max_bin=256, max_depth:='auto', min_data_in_leaf=25,\n",
       "              n_estimators=115, num_leaves=40)"
      ]
     },
     "execution_count": 21,
     "metadata": {},
     "output_type": "execute_result"
    }
   ],
   "source": [
    "grid_search.best_estimator_"
   ]
  },
  {
   "cell_type": "code",
   "execution_count": 22,
   "metadata": {},
   "outputs": [
    {
     "data": {
      "text/plain": [
       "-520.3540576554394"
      ]
     },
     "execution_count": 22,
     "metadata": {},
     "output_type": "execute_result"
    }
   ],
   "source": [
    "grid_search.best_score_"
   ]
  },
  {
   "cell_type": "code",
   "execution_count": 23,
   "metadata": {},
   "outputs": [
    {
     "name": "stdout",
     "output_type": "stream",
     "text": [
      "test error: 456.27373321328406\n",
      "train error: 451.2072747087676\n"
     ]
    }
   ],
   "source": [
    "from sklearn.metrics import mean_squared_error\n",
    "y_train_pred = grid_search.predict(x_train)\n",
    "y_test_pred = grid_search.predict(x_test)\n",
    "print(f\"test error: {mean_squared_error(y_pred=y_test_pred, y_true=y_test, squared=False)}\")\n",
    "print(f\"train error: {mean_squared_error(y_pred=y_train_pred, y_true=y_train, squared=False)}\")"
   ]
  },
  {
   "cell_type": "code",
   "execution_count": 30,
   "metadata": {},
   "outputs": [
    {
     "data": {
      "text/html": [
       "<div>\n",
       "<style scoped>\n",
       "    .dataframe tbody tr th:only-of-type {\n",
       "        vertical-align: middle;\n",
       "    }\n",
       "\n",
       "    .dataframe tbody tr th {\n",
       "        vertical-align: top;\n",
       "    }\n",
       "\n",
       "    .dataframe thead th {\n",
       "        text-align: right;\n",
       "    }\n",
       "</style>\n",
       "<table border=\"1\" class=\"dataframe\">\n",
       "  <thead>\n",
       "    <tr style=\"text-align: right;\">\n",
       "      <th></th>\n",
       "      <th>id</th>\n",
       "      <th>carat</th>\n",
       "      <th>cut</th>\n",
       "      <th>color</th>\n",
       "      <th>clarity</th>\n",
       "      <th>depth</th>\n",
       "      <th>table</th>\n",
       "      <th>x</th>\n",
       "      <th>y</th>\n",
       "      <th>z</th>\n",
       "      <th>ratio_lw</th>\n",
       "      <th>carat_log</th>\n",
       "      <th>volumen</th>\n",
       "      <th>shape</th>\n",
       "    </tr>\n",
       "  </thead>\n",
       "  <tbody>\n",
       "    <tr>\n",
       "      <th>0</th>\n",
       "      <td>0</td>\n",
       "      <td>0.79</td>\n",
       "      <td>2</td>\n",
       "      <td>4</td>\n",
       "      <td>2</td>\n",
       "      <td>62.7</td>\n",
       "      <td>60.0</td>\n",
       "      <td>5.82</td>\n",
       "      <td>5.89</td>\n",
       "      <td>3.67</td>\n",
       "      <td>0.988115</td>\n",
       "      <td>-0.235722</td>\n",
       "      <td>41.437236</td>\n",
       "      <td>2</td>\n",
       "    </tr>\n",
       "    <tr>\n",
       "      <th>1</th>\n",
       "      <td>1</td>\n",
       "      <td>1.20</td>\n",
       "      <td>4</td>\n",
       "      <td>0</td>\n",
       "      <td>4</td>\n",
       "      <td>61.0</td>\n",
       "      <td>57.0</td>\n",
       "      <td>6.81</td>\n",
       "      <td>6.89</td>\n",
       "      <td>4.18</td>\n",
       "      <td>0.988389</td>\n",
       "      <td>0.182322</td>\n",
       "      <td>64.617366</td>\n",
       "      <td>1</td>\n",
       "    </tr>\n",
       "    <tr>\n",
       "      <th>2</th>\n",
       "      <td>2</td>\n",
       "      <td>1.57</td>\n",
       "      <td>3</td>\n",
       "      <td>2</td>\n",
       "      <td>2</td>\n",
       "      <td>62.2</td>\n",
       "      <td>61.0</td>\n",
       "      <td>7.38</td>\n",
       "      <td>7.32</td>\n",
       "      <td>4.57</td>\n",
       "      <td>1.008197</td>\n",
       "      <td>0.451076</td>\n",
       "      <td>82.967436</td>\n",
       "      <td>2</td>\n",
       "    </tr>\n",
       "    <tr>\n",
       "      <th>3</th>\n",
       "      <td>3</td>\n",
       "      <td>0.90</td>\n",
       "      <td>2</td>\n",
       "      <td>4</td>\n",
       "      <td>2</td>\n",
       "      <td>63.8</td>\n",
       "      <td>54.0</td>\n",
       "      <td>6.09</td>\n",
       "      <td>6.13</td>\n",
       "      <td>3.90</td>\n",
       "      <td>0.993475</td>\n",
       "      <td>-0.105361</td>\n",
       "      <td>48.214530</td>\n",
       "      <td>1</td>\n",
       "    </tr>\n",
       "    <tr>\n",
       "      <th>4</th>\n",
       "      <td>4</td>\n",
       "      <td>0.50</td>\n",
       "      <td>2</td>\n",
       "      <td>4</td>\n",
       "      <td>4</td>\n",
       "      <td>62.9</td>\n",
       "      <td>58.0</td>\n",
       "      <td>5.05</td>\n",
       "      <td>5.09</td>\n",
       "      <td>3.19</td>\n",
       "      <td>0.992141</td>\n",
       "      <td>-0.693147</td>\n",
       "      <td>27.117658</td>\n",
       "      <td>1</td>\n",
       "    </tr>\n",
       "    <tr>\n",
       "      <th>...</th>\n",
       "      <td>...</td>\n",
       "      <td>...</td>\n",
       "      <td>...</td>\n",
       "      <td>...</td>\n",
       "      <td>...</td>\n",
       "      <td>...</td>\n",
       "      <td>...</td>\n",
       "      <td>...</td>\n",
       "      <td>...</td>\n",
       "      <td>...</td>\n",
       "      <td>...</td>\n",
       "      <td>...</td>\n",
       "      <td>...</td>\n",
       "      <td>...</td>\n",
       "    </tr>\n",
       "    <tr>\n",
       "      <th>13480</th>\n",
       "      <td>13480</td>\n",
       "      <td>0.57</td>\n",
       "      <td>4</td>\n",
       "      <td>5</td>\n",
       "      <td>2</td>\n",
       "      <td>61.9</td>\n",
       "      <td>56.0</td>\n",
       "      <td>5.35</td>\n",
       "      <td>5.32</td>\n",
       "      <td>3.30</td>\n",
       "      <td>1.005639</td>\n",
       "      <td>-0.562119</td>\n",
       "      <td>31.484750</td>\n",
       "      <td>4</td>\n",
       "    </tr>\n",
       "    <tr>\n",
       "      <th>13481</th>\n",
       "      <td>13481</td>\n",
       "      <td>0.71</td>\n",
       "      <td>4</td>\n",
       "      <td>1</td>\n",
       "      <td>3</td>\n",
       "      <td>62.2</td>\n",
       "      <td>55.0</td>\n",
       "      <td>5.71</td>\n",
       "      <td>5.73</td>\n",
       "      <td>3.56</td>\n",
       "      <td>0.996510</td>\n",
       "      <td>-0.342490</td>\n",
       "      <td>38.690199</td>\n",
       "      <td>4</td>\n",
       "    </tr>\n",
       "    <tr>\n",
       "      <th>13482</th>\n",
       "      <td>13482</td>\n",
       "      <td>0.70</td>\n",
       "      <td>4</td>\n",
       "      <td>4</td>\n",
       "      <td>4</td>\n",
       "      <td>61.6</td>\n",
       "      <td>55.0</td>\n",
       "      <td>5.75</td>\n",
       "      <td>5.71</td>\n",
       "      <td>3.53</td>\n",
       "      <td>1.007005</td>\n",
       "      <td>-0.356675</td>\n",
       "      <td>38.903542</td>\n",
       "      <td>4</td>\n",
       "    </tr>\n",
       "    <tr>\n",
       "      <th>13483</th>\n",
       "      <td>13483</td>\n",
       "      <td>0.70</td>\n",
       "      <td>2</td>\n",
       "      <td>4</td>\n",
       "      <td>1</td>\n",
       "      <td>58.8</td>\n",
       "      <td>57.0</td>\n",
       "      <td>5.85</td>\n",
       "      <td>5.89</td>\n",
       "      <td>3.45</td>\n",
       "      <td>0.993209</td>\n",
       "      <td>-0.356675</td>\n",
       "      <td>39.355875</td>\n",
       "      <td>0</td>\n",
       "    </tr>\n",
       "    <tr>\n",
       "      <th>13484</th>\n",
       "      <td>13484</td>\n",
       "      <td>0.40</td>\n",
       "      <td>4</td>\n",
       "      <td>1</td>\n",
       "      <td>5</td>\n",
       "      <td>62.4</td>\n",
       "      <td>55.0</td>\n",
       "      <td>4.70</td>\n",
       "      <td>4.73</td>\n",
       "      <td>2.94</td>\n",
       "      <td>0.993658</td>\n",
       "      <td>-0.916291</td>\n",
       "      <td>21.648200</td>\n",
       "      <td>4</td>\n",
       "    </tr>\n",
       "  </tbody>\n",
       "</table>\n",
       "<p>13485 rows × 14 columns</p>\n",
       "</div>"
      ],
      "text/plain": [
       "          id  carat  cut  color  clarity  depth  table     x     y     z  \\\n",
       "0          0   0.79    2      4        2   62.7   60.0  5.82  5.89  3.67   \n",
       "1          1   1.20    4      0        4   61.0   57.0  6.81  6.89  4.18   \n",
       "2          2   1.57    3      2        2   62.2   61.0  7.38  7.32  4.57   \n",
       "3          3   0.90    2      4        2   63.8   54.0  6.09  6.13  3.90   \n",
       "4          4   0.50    2      4        4   62.9   58.0  5.05  5.09  3.19   \n",
       "...      ...    ...  ...    ...      ...    ...    ...   ...   ...   ...   \n",
       "13480  13480   0.57    4      5        2   61.9   56.0  5.35  5.32  3.30   \n",
       "13481  13481   0.71    4      1        3   62.2   55.0  5.71  5.73  3.56   \n",
       "13482  13482   0.70    4      4        4   61.6   55.0  5.75  5.71  3.53   \n",
       "13483  13483   0.70    2      4        1   58.8   57.0  5.85  5.89  3.45   \n",
       "13484  13484   0.40    4      1        5   62.4   55.0  4.70  4.73  2.94   \n",
       "\n",
       "       ratio_lw  carat_log    volumen  shape  \n",
       "0      0.988115  -0.235722  41.437236      2  \n",
       "1      0.988389   0.182322  64.617366      1  \n",
       "2      1.008197   0.451076  82.967436      2  \n",
       "3      0.993475  -0.105361  48.214530      1  \n",
       "4      0.992141  -0.693147  27.117658      1  \n",
       "...         ...        ...        ...    ...  \n",
       "13480  1.005639  -0.562119  31.484750      4  \n",
       "13481  0.996510  -0.342490  38.690199      4  \n",
       "13482  1.007005  -0.356675  38.903542      4  \n",
       "13483  0.993209  -0.356675  39.355875      0  \n",
       "13484  0.993658  -0.916291  21.648200      4  \n",
       "\n",
       "[13485 rows x 14 columns]"
      ]
     },
     "execution_count": 30,
     "metadata": {},
     "output_type": "execute_result"
    }
   ],
   "source": [
    "diamonds_predict"
   ]
  },
  {
   "cell_type": "code",
   "execution_count": 31,
   "metadata": {},
   "outputs": [],
   "source": [
    "X_test = scaler.transform(diamonds_predict[FEATS])"
   ]
  },
  {
   "cell_type": "code",
   "execution_count": 32,
   "metadata": {},
   "outputs": [],
   "source": [
    "preds = grid_search.predict(X_test)"
   ]
  },
  {
   "cell_type": "code",
   "execution_count": 33,
   "metadata": {},
   "outputs": [],
   "source": [
    "from datetime import datetime\n",
    "now = datetime.now()\n",
    "dt_string = now.strftime(\"%Y-%m-%d-%H-%M\")"
   ]
  },
  {
   "cell_type": "code",
   "execution_count": 34,
   "metadata": {},
   "outputs": [],
   "source": [
    "output = pd.DataFrame({'id': diamonds_predict['id'], 'price': preds})\n"
   ]
  },
  {
   "cell_type": "code",
   "execution_count": 35,
   "metadata": {},
   "outputs": [
    {
     "data": {
      "text/html": [
       "<div>\n",
       "<style scoped>\n",
       "    .dataframe tbody tr th:only-of-type {\n",
       "        vertical-align: middle;\n",
       "    }\n",
       "\n",
       "    .dataframe tbody tr th {\n",
       "        vertical-align: top;\n",
       "    }\n",
       "\n",
       "    .dataframe thead th {\n",
       "        text-align: right;\n",
       "    }\n",
       "</style>\n",
       "<table border=\"1\" class=\"dataframe\">\n",
       "  <thead>\n",
       "    <tr style=\"text-align: right;\">\n",
       "      <th></th>\n",
       "      <th>id</th>\n",
       "      <th>price</th>\n",
       "    </tr>\n",
       "  </thead>\n",
       "  <tbody>\n",
       "    <tr>\n",
       "      <th>0</th>\n",
       "      <td>0</td>\n",
       "      <td>2900.628711</td>\n",
       "    </tr>\n",
       "    <tr>\n",
       "      <th>1</th>\n",
       "      <td>1</td>\n",
       "      <td>5826.519210</td>\n",
       "    </tr>\n",
       "    <tr>\n",
       "      <th>2</th>\n",
       "      <td>2</td>\n",
       "      <td>9386.050677</td>\n",
       "    </tr>\n",
       "    <tr>\n",
       "      <th>3</th>\n",
       "      <td>3</td>\n",
       "      <td>4032.168131</td>\n",
       "    </tr>\n",
       "    <tr>\n",
       "      <th>4</th>\n",
       "      <td>4</td>\n",
       "      <td>1596.410054</td>\n",
       "    </tr>\n",
       "    <tr>\n",
       "      <th>...</th>\n",
       "      <td>...</td>\n",
       "      <td>...</td>\n",
       "    </tr>\n",
       "    <tr>\n",
       "      <th>13480</th>\n",
       "      <td>13480</td>\n",
       "      <td>1682.407747</td>\n",
       "    </tr>\n",
       "    <tr>\n",
       "      <th>13481</th>\n",
       "      <td>13481</td>\n",
       "      <td>2545.651645</td>\n",
       "    </tr>\n",
       "    <tr>\n",
       "      <th>13482</th>\n",
       "      <td>13482</td>\n",
       "      <td>3129.805837</td>\n",
       "    </tr>\n",
       "    <tr>\n",
       "      <th>13483</th>\n",
       "      <td>13483</td>\n",
       "      <td>2178.139254</td>\n",
       "    </tr>\n",
       "    <tr>\n",
       "      <th>13484</th>\n",
       "      <td>13484</td>\n",
       "      <td>808.737886</td>\n",
       "    </tr>\n",
       "  </tbody>\n",
       "</table>\n",
       "<p>13485 rows × 2 columns</p>\n",
       "</div>"
      ],
      "text/plain": [
       "          id        price\n",
       "0          0  2900.628711\n",
       "1          1  5826.519210\n",
       "2          2  9386.050677\n",
       "3          3  4032.168131\n",
       "4          4  1596.410054\n",
       "...      ...          ...\n",
       "13480  13480  1682.407747\n",
       "13481  13481  2545.651645\n",
       "13482  13482  3129.805837\n",
       "13483  13483  2178.139254\n",
       "13484  13484   808.737886\n",
       "\n",
       "[13485 rows x 2 columns]"
      ]
     },
     "execution_count": 35,
     "metadata": {},
     "output_type": "execute_result"
    }
   ],
   "source": [
    "output"
   ]
  },
  {
   "cell_type": "code",
   "execution_count": 36,
   "metadata": {},
   "outputs": [
    {
     "data": {
      "text/html": [
       "<div>\n",
       "<style scoped>\n",
       "    .dataframe tbody tr th:only-of-type {\n",
       "        vertical-align: middle;\n",
       "    }\n",
       "\n",
       "    .dataframe tbody tr th {\n",
       "        vertical-align: top;\n",
       "    }\n",
       "\n",
       "    .dataframe thead th {\n",
       "        text-align: right;\n",
       "    }\n",
       "</style>\n",
       "<table border=\"1\" class=\"dataframe\">\n",
       "  <thead>\n",
       "    <tr style=\"text-align: right;\">\n",
       "      <th></th>\n",
       "      <th>id</th>\n",
       "      <th>price</th>\n",
       "    </tr>\n",
       "  </thead>\n",
       "  <tbody>\n",
       "    <tr>\n",
       "      <th>count</th>\n",
       "      <td>13485.000000</td>\n",
       "      <td>13485.000000</td>\n",
       "    </tr>\n",
       "    <tr>\n",
       "      <th>mean</th>\n",
       "      <td>6742.000000</td>\n",
       "      <td>3951.725175</td>\n",
       "    </tr>\n",
       "    <tr>\n",
       "      <th>std</th>\n",
       "      <td>3892.928525</td>\n",
       "      <td>3955.212518</td>\n",
       "    </tr>\n",
       "    <tr>\n",
       "      <th>min</th>\n",
       "      <td>0.000000</td>\n",
       "      <td>314.426112</td>\n",
       "    </tr>\n",
       "    <tr>\n",
       "      <th>25%</th>\n",
       "      <td>3371.000000</td>\n",
       "      <td>939.828934</td>\n",
       "    </tr>\n",
       "    <tr>\n",
       "      <th>50%</th>\n",
       "      <td>6742.000000</td>\n",
       "      <td>2462.401611</td>\n",
       "    </tr>\n",
       "    <tr>\n",
       "      <th>75%</th>\n",
       "      <td>10113.000000</td>\n",
       "      <td>5335.140108</td>\n",
       "    </tr>\n",
       "    <tr>\n",
       "      <th>max</th>\n",
       "      <td>13484.000000</td>\n",
       "      <td>18358.884993</td>\n",
       "    </tr>\n",
       "  </tbody>\n",
       "</table>\n",
       "</div>"
      ],
      "text/plain": [
       "                 id         price\n",
       "count  13485.000000  13485.000000\n",
       "mean    6742.000000   3951.725175\n",
       "std     3892.928525   3955.212518\n",
       "min        0.000000    314.426112\n",
       "25%     3371.000000    939.828934\n",
       "50%     6742.000000   2462.401611\n",
       "75%    10113.000000   5335.140108\n",
       "max    13484.000000  18358.884993"
      ]
     },
     "execution_count": 36,
     "metadata": {},
     "output_type": "execute_result"
    }
   ],
   "source": [
    "output.describe()"
   ]
  },
  {
   "cell_type": "code",
   "execution_count": 37,
   "metadata": {},
   "outputs": [],
   "source": [
    "# output.price.clip(350, 19000, inplace=True)"
   ]
  },
  {
   "cell_type": "code",
   "execution_count": 38,
   "metadata": {},
   "outputs": [],
   "source": [
    "output.to_csv(f'../solutions_v2/good-lgbm-3v-{dt_string}.csv', index=False)"
   ]
  },
  {
   "cell_type": "code",
   "execution_count": null,
   "metadata": {},
   "outputs": [],
   "source": []
  }
 ],
 "metadata": {
  "kernelspec": {
   "display_name": "Python [conda env:test_ml]",
   "language": "python",
   "name": "conda-env-test_ml-py"
  },
  "language_info": {
   "codemirror_mode": {
    "name": "ipython",
    "version": 3
   },
   "file_extension": ".py",
   "mimetype": "text/x-python",
   "name": "python",
   "nbconvert_exporter": "python",
   "pygments_lexer": "ipython3",
   "version": "3.7.9"
  }
 },
 "nbformat": 4,
 "nbformat_minor": 4
}
